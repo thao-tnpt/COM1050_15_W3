{
 "cells": [
  {
   "cell_type": "code",
   "execution_count": null,
   "id": "c5139a7c-ecdd-4064-95ab-6a6e1cd192b1",
   "metadata": {},
   "outputs": [],
   "source": [
    "Hoán đổi giá trị 2 số:"
   ]
  },
  {
   "cell_type": "code",
   "execution_count": null,
   "id": "84d73223-c1b1-4399-b1c4-ddc18219c109",
   "metadata": {},
   "outputs": [],
   "source": [
    "a=5\n",
    "b=7\n"
   ]
  },
  {
   "cell_type": "code",
   "execution_count": null,
   "id": "8ca3983c-9da2-47b1-8b94-4d6e31d8751d",
   "metadata": {},
   "outputs": [],
   "source": [
    "a, b"
   ]
  },
  {
   "cell_type": "code",
   "execution_count": null,
   "id": "e4cb3c34-8d82-4587-9c34-72ea13513bdf",
   "metadata": {},
   "outputs": [],
   "source": [
    "(5, 7)"
   ]
  },
  {
   "cell_type": "code",
   "execution_count": 2,
   "id": "636a60e8-b2b1-4195-a698-0b483743a8ef",
   "metadata": {},
   "outputs": [
    {
     "ename": "NameError",
     "evalue": "name 'b' is not defined",
     "output_type": "error",
     "traceback": [
      "\u001b[31m---------------------------------------------------------------------------\u001b[39m",
      "\u001b[31mNameError\u001b[39m                                 Traceback (most recent call last)",
      "\u001b[36mCell\u001b[39m\u001b[36m \u001b[39m\u001b[32mIn[2]\u001b[39m\u001b[32m, line 1\u001b[39m\n\u001b[32m----> \u001b[39m\u001b[32m1\u001b[39m a , b = \u001b[43mb\u001b[49m , a\n",
      "\u001b[31mNameError\u001b[39m: name 'b' is not defined"
     ]
    }
   ],
   "source": [
    "a, b = b, a"
   ]
  },
  {
   "cell_type": "code",
   "execution_count": 5,
   "id": "67480f98-a7fe-498f-9d89-e68f478417e3",
   "metadata": {},
   "outputs": [
    {
     "ename": "NameError",
     "evalue": "name 'a' is not defined",
     "output_type": "error",
     "traceback": [
      "\u001b[31m---------------------------------------------------------------------------\u001b[39m",
      "\u001b[31mNameError\u001b[39m                                 Traceback (most recent call last)",
      "\u001b[36mCell\u001b[39m\u001b[36m \u001b[39m\u001b[32mIn[5]\u001b[39m\u001b[32m, line 1\u001b[39m\n\u001b[32m----> \u001b[39m\u001b[32m1\u001b[39m \u001b[43ma\u001b[49m, b\n",
      "\u001b[31mNameError\u001b[39m: name 'a' is not defined"
     ]
    }
   ],
   "source": [
    "a, b"
   ]
  },
  {
   "cell_type": "code",
   "execution_count": null,
   "id": "da3ec0d8-9a06-4b92-850f-699795a8f430",
   "metadata": {},
   "outputs": [],
   "source": [
    "# AND,OR, XOR:\n",
    "bin_a = bin(a)\n"
   ]
  },
  {
   "cell_type": "code",
   "execution_count": null,
   "id": "8edccc11-8e5e-4d27-addf-9fab8c9d6592",
   "metadata": {},
   "outputs": [],
   "source": [
    "bin"
   ]
  },
  {
   "cell_type": "code",
   "execution_count": null,
   "id": "5deb1419-fd87-4596-9540-de3b65a27058",
   "metadata": {},
   "outputs": [],
   "source": [
    "a = 8"
   ]
  },
  {
   "cell_type": "code",
   "execution_count": null,
   "id": "2f2bd89d-48b1-48c2-8238-b720bbc5a7dc",
   "metadata": {},
   "outputs": [],
   "source": [
    "a & (a-1) == 0"
   ]
  },
  {
   "cell_type": "code",
   "execution_count": null,
   "id": "ebbe7cb6-7234-4d56-b324-aedd22fcc43a",
   "metadata": {},
   "outputs": [],
   "source": [
    "True"
   ]
  },
  {
   "cell_type": "code",
   "execution_count": null,
   "id": "1351d671-b32c-4488-8d78-a27329f213ec",
   "metadata": {},
   "outputs": [],
   "source": [
    "a = int(input"
   ]
  }
 ],
 "metadata": {
  "kernelspec": {
   "display_name": "Python 3 (ipykernel)",
   "language": "python",
   "name": "python3"
  },
  "language_info": {
   "codemirror_mode": {
    "name": "ipython",
    "version": 3
   },
   "file_extension": ".py",
   "mimetype": "text/x-python",
   "name": "python",
   "nbconvert_exporter": "python",
   "pygments_lexer": "ipython3",
   "version": "3.13.5"
  }
 },
 "nbformat": 4,
 "nbformat_minor": 5
}
