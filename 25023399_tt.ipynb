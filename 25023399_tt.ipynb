{
 "cells": [
  {
   "cell_type": "markdown",
   "id": "404d2972-fa6c-4d73-b8e1-dad99d767ef0",
   "metadata": {},
   "source": [
    "# A2_hoán đổi giá trị của hai biến\n",
    "\n"
   ]
  },
  {
   "cell_type": "code",
   "execution_count": 1,
   "id": "73b684d9-06c5-423d-9729-86d53304c326",
   "metadata": {},
   "outputs": [
    {
     "name": "stdin",
     "output_type": "stream",
     "text": [
      " 2 4\n"
     ]
    },
    {
     "name": "stdout",
     "output_type": "stream",
     "text": [
      "Giá trị sau khi hoán đổi của a: 4; b: 2\n"
     ]
    }
   ],
   "source": [
    "a, b = map(int,input().split())   \n",
    "a = a^b                           #hoán đổi\n",
    "b = a^b\n",
    "a = a^b\n",
    "print(f\"Giá trị sau khi hoán đổi của a: {a}; b: {b}\")"
   ]
  },
  {
   "cell_type": "markdown",
   "id": "0f74bd0d-e3da-4c33-8538-f097ec4b2c82",
   "metadata": {},
   "source": [
    "# A3_Kiểm tra xem một số có phải là lũy thừa của 2\n",
    "\n"
   ]
  },
  {
   "cell_type": "code",
   "execution_count": 2,
   "id": "b407b733-62d2-447a-8b15-ef58adc7f197",
   "metadata": {},
   "outputs": [
    {
     "name": "stdin",
     "output_type": "stream",
     "text": [
      " 32\n"
     ]
    },
    {
     "name": "stdout",
     "output_type": "stream",
     "text": [
      "32 là lũy thừa của 2\n"
     ]
    }
   ],
   "source": [
    "a = int(input())\n",
    "if (a & (a-1)== 0): \n",
    "    print(f\"{a} là lũy thừa của 2\")\n",
    "else:\n",
    "    print(f\"{a} không là lũy thừa của 2\")"
   ]
  },
  {
   "cell_type": "markdown",
   "id": "122c79a2-5074-49db-adb4-48c81bbcaa8a",
   "metadata": {},
   "source": [
    "# A4_làm tròn xuống kết quả"
   ]
  },
  {
   "cell_type": "code",
   "execution_count": 7,
   "id": "f3e3967c-93ae-490d-bed1-af4ea28c0e41",
   "metadata": {},
   "outputs": [
    {
     "name": "stdin",
     "output_type": "stream",
     "text": [
      " 5 2\n"
     ]
    },
    {
     "name": "stdout",
     "output_type": "stream",
     "text": [
      "m/n = 2\n"
     ]
    }
   ],
   "source": [
    "import math                          # math.floor\n",
    "m, n = map(int,input().split())\n",
    "print( f\"m/n = {math.floor(m/n)}\")    "
   ]
  },
  {
   "cell_type": "markdown",
   "id": "fdc0624c-7fa2-42ed-91bf-d2a56a584a70",
   "metadata": {},
   "source": [
    "# A5 làm tròn lên kết quả"
   ]
  },
  {
   "cell_type": "code",
   "execution_count": 8,
   "id": "fbbd7b8b-aec2-4259-9b6a-9c5efb791feb",
   "metadata": {},
   "outputs": [
    {
     "name": "stdin",
     "output_type": "stream",
     "text": [
      " 5 2\n"
     ]
    },
    {
     "name": "stdout",
     "output_type": "stream",
     "text": [
      "m/n = 3\n"
     ]
    }
   ],
   "source": [
    "import math                         #math.ceil\n",
    "m, n = map(int,input().split())\n",
    "print( f\"m/n = {math.ceil(m/n)}\")"
   ]
  },
  {
   "cell_type": "markdown",
   "id": "4584c9e2-c29f-451e-9c6c-76adff9b1b5c",
   "metadata": {},
   "source": [
    "# A6 even and odd"
   ]
  },
  {
   "cell_type": "code",
   "execution_count": 10,
   "id": "784a13bc-6814-4216-abab-955075c19dd4",
   "metadata": {},
   "outputs": [
    {
     "name": "stdin",
     "output_type": "stream",
     "text": [
      " 3\n"
     ]
    },
    {
     "name": "stdout",
     "output_type": "stream",
     "text": [
      "odd\n"
     ]
    }
   ],
   "source": [
    "x = int(input())\n",
    "if x%2 == 0:\n",
    "   print (\"even\")\n",
    "else:\n",
    "   print (\"odd\")"
   ]
  },
  {
   "cell_type": "markdown",
   "id": "2e4975cb-0ed3-462c-a134-e5c32e2cfa40",
   "metadata": {},
   "source": [
    "# A7 check 2 số âm"
   ]
  },
  {
   "cell_type": "code",
   "execution_count": 16,
   "id": "94ff0766-0876-4a99-9515-5b045ee8de38",
   "metadata": {},
   "outputs": [
    {
     "name": "stdin",
     "output_type": "stream",
     "text": [
      " 4 -2\n"
     ]
    },
    {
     "name": "stdout",
     "output_type": "stream",
     "text": [
      "no\n"
     ]
    }
   ],
   "source": [
    "a, b = map(int,input().split())\n",
    "if a<0 and b<0:\n",
    "    print (\"yes\")\n",
    "else:\n",
    "    print (\"no\")\n"
   ]
  },
  {
   "cell_type": "markdown",
   "id": "7ef8aa52-c3d3-4fbb-9da3-3e699fad8a14",
   "metadata": {},
   "source": [
    "# A8_Longer string"
   ]
  },
  {
   "cell_type": "code",
   "execution_count": 18,
   "id": "dc4f242c-e468-4130-8b6c-325f10bdd8f0",
   "metadata": {},
   "outputs": [
    {
     "name": "stdin",
     "output_type": "stream",
     "text": [
      " abcdef\n",
      " a11\n"
     ]
    },
    {
     "name": "stdout",
     "output_type": "stream",
     "text": [
      "True\n"
     ]
    }
   ],
   "source": [
    "a = input()\n",
    "b = input()\n",
    "if len(a) > len(b):\n",
    "    print (\"True\")\n",
    "else:\n",
    "    print (\"No\")"
   ]
  },
  {
   "cell_type": "markdown",
   "id": "edc1cdc9-716a-49e8-87f6-8b9bd2e7e9d0",
   "metadata": {},
   "source": [
    "# A9_Triangle"
   ]
  },
  {
   "cell_type": "code",
   "execution_count": 19,
   "id": "f7e4387a-e9c3-47f0-93c9-2bac8d894e86",
   "metadata": {},
   "outputs": [
    {
     "name": "stdin",
     "output_type": "stream",
     "text": [
      " 6 9 10\n"
     ]
    },
    {
     "name": "stdout",
     "output_type": "stream",
     "text": [
      "Yes\n"
     ]
    }
   ],
   "source": [
    "a, b, c = map(float,input().split())\n",
    "if a + b > c and a + c > b and b + c > a:\n",
    "    print(\"Yes\")\n",
    "else:\n",
    "    print(\"No\")\n"
   ]
  },
  {
   "cell_type": "markdown",
   "id": "181f716b-bcb8-4fb1-b8dd-645fa0b44cac",
   "metadata": {},
   "source": [
    "# A10_largest number"
   ]
  },
  {
   "cell_type": "code",
   "execution_count": 20,
   "id": "28f8a4c9-a772-4c21-b822-e21824784a88",
   "metadata": {},
   "outputs": [
    {
     "name": "stdin",
     "output_type": "stream",
     "text": [
      " 2 4 5 7\n"
     ]
    },
    {
     "name": "stdout",
     "output_type": "stream",
     "text": [
      " largest_number = 7\n"
     ]
    }
   ],
   "source": [
    "a, b, c, d = map(int,input().split())\n",
    "print (f\" largest_number = {max(a,b,c,d)}\")"
   ]
  },
  {
   "cell_type": "markdown",
   "id": "3ef7aaba-fe33-44be-b614-308f271925fb",
   "metadata": {},
   "source": [
    "# A11_phân loại tam giác"
   ]
  },
  {
   "cell_type": "code",
   "execution_count": 3,
   "id": "55085e10-ea81-4975-a04e-25e91e65e55c",
   "metadata": {},
   "outputs": [
    {
     "name": "stdin",
     "output_type": "stream",
     "text": [
      " 6 8 6\n"
     ]
    },
    {
     "name": "stdout",
     "output_type": "stream",
     "text": [
      "tam giác cân\n"
     ]
    }
   ],
   "source": [
    "a, b, c = map(float,input().split())\n",
    "if a + b > c and a + c > b and b + c > a:\n",
    "    if a==b==c :\n",
    "       print(\"tam giác đều\")\n",
    "    elif a==b or a==c or b==c :\n",
    "       print(\"tam giác cân\")\n",
    "    else:\n",
    "       print(\"tam giác thường\")\n",
    "else: \n",
    "    print(\"không phải tam giác \")\n",
    "\n"
   ]
  },
  {
   "cell_type": "markdown",
   "id": "3f1bf8e0-1ce2-45e7-84e5-9e99321e1abb",
   "metadata": {},
   "source": [
    "# A12_kt năm nhuận"
   ]
  },
  {
   "cell_type": "code",
   "execution_count": 5,
   "id": "a536a630-15ef-4336-bd05-8ff1969d39c7",
   "metadata": {},
   "outputs": [
    {
     "name": "stdin",
     "output_type": "stream",
     "text": [
      " 2016\n"
     ]
    },
    {
     "name": "stdout",
     "output_type": "stream",
     "text": [
      "Yes\n"
     ]
    }
   ],
   "source": [
    "n = int(input())\n",
    "if (n%4 == 0 and n%100!=0) or n % 400 == 0:\n",
    "    print(\"Yes\")\n",
    "else: \n",
    "    print(\"No\")"
   ]
  },
  {
   "cell_type": "markdown",
   "id": "bb5eeef4-d7db-4bef-90e7-10ad08b2beb8",
   "metadata": {},
   "source": [
    "# A14_giải pt bậc nhất ax+b=0"
   ]
  },
  {
   "cell_type": "code",
   "execution_count": 8,
   "id": "119669ac-c7f3-4d58-b395-bf282445256c",
   "metadata": {},
   "outputs": [
    {
     "name": "stdin",
     "output_type": "stream",
     "text": [
      " 5 3\n"
     ]
    },
    {
     "name": "stdout",
     "output_type": "stream",
     "text": [
      " x = -0.6\n"
     ]
    }
   ],
   "source": [
    "a, b = map(float,input().split())\n",
    "if a==0 and b==0:\n",
    "    print (\"vô số nghiệm\")\n",
    "elif a==0 and b!=0:\n",
    "    print (\"vô nghiệm\")\n",
    "else:\n",
    "    print (f\" x = {-b/a}\")"
   ]
  },
  {
   "cell_type": "markdown",
   "id": "3ed80adc-9f9c-4a76-86f4-fe711a4bf02b",
   "metadata": {},
   "source": [
    "# A15_Xếp loại học lực"
   ]
  },
  {
   "cell_type": "code",
   "execution_count": 9,
   "id": "82955b49-6a5b-4d42-a913-faf5849d4efc",
   "metadata": {},
   "outputs": [
    {
     "name": "stdin",
     "output_type": "stream",
     "text": [
      " 4\n"
     ]
    },
    {
     "name": "stdout",
     "output_type": "stream",
     "text": [
      "Yếu\n"
     ]
    }
   ],
   "source": [
    "n = float(input())\n",
    "if n >= 0 and n <=10:\n",
    "    if n >= 8:\n",
    "        print(\"Giỏi\")\n",
    "    elif n >= 6.5:\n",
    "        print(\"Khá\")\n",
    "    elif n >= 5:\n",
    "        print(\"Trung bình\")\n",
    "    else:\n",
    "        print(\"Yếu\")\n",
    "else:\n",
    "    print(\"Invalid\")"
   ]
  },
  {
   "cell_type": "markdown",
   "id": "5bdc2071-3675-48a0-bb9d-efd5ec886c0c",
   "metadata": {},
   "source": [
    "# A16_rounding"
   ]
  },
  {
   "cell_type": "code",
   "execution_count": 35,
   "id": "2ab74e57-a827-4f55-9aa0-0c60870ae3e4",
   "metadata": {},
   "outputs": [
    {
     "name": "stdin",
     "output_type": "stream",
     "text": [
      " -3.6\n"
     ]
    },
    {
     "name": "stdout",
     "output_type": "stream",
     "text": [
      "-3 -4 -4\n"
     ]
    }
   ],
   "source": [
    "a= float(input())\n",
    "#làm tròn lên,tròn xuống\n",
    "if a>0:\n",
    "    tron_len= int(a)+1\n",
    "    tron_xuong= int(a)\n",
    "else:\n",
    "    tron_len= int(a)\n",
    "    tron_xuong= int(a)-1\n",
    "#làm tròn tới số nguyên gần nhất\n",
    "x = abs(a - int(a))\n",
    "if a>0:\n",
    "    if x>=0.5:\n",
    "        so_nguyen_gan_nhat= int(a)+1\n",
    "    else: so_nguyen_gan_nhat= int(a)\n",
    "else:\n",
    "    if x>=0.5:\n",
    "         so_nguyen_gan_nhat= int(a)-1\n",
    "    else: so_nguyen_gan_nhat= int(a)    \n",
    "print(tron_len, tron_xuong ,so_nguyen_gan_nhat)\n",
    "        \n",
    "\n",
    "  "
   ]
  },
  {
   "cell_type": "markdown",
   "id": "8f3ed847-713b-472f-ac74-3fa32edc5187",
   "metadata": {},
   "source": [
    "# A17_cấp số nhân"
   ]
  },
  {
   "cell_type": "code",
   "execution_count": 37,
   "id": "a3a32786-c5f8-4f0e-8e13-0353eb2c65ba",
   "metadata": {},
   "outputs": [
    {
     "name": "stdin",
     "output_type": "stream",
     "text": [
      " 2 4 8 16\n"
     ]
    },
    {
     "name": "stdout",
     "output_type": "stream",
     "text": [
      "cấp số nhân với công bội nguyên theo đúng thứ tự\n"
     ]
    }
   ],
   "source": [
    "a, b, c, d = map(float, input().split())\n",
    "q = b / a\n",
    "if b * q == c and c*q == d:\n",
    "    print(\"cấp số nhân với công bội nguyên theo đúng thứ tự\")\n",
    "else:\n",
    "    print(\"No\")"
   ]
  },
  {
   "cell_type": "code",
   "execution_count": null,
   "id": "f7e6344c-7308-487a-b5c2-c166fe9305bf",
   "metadata": {},
   "outputs": [],
   "source": []
  }
 ],
 "metadata": {
  "kernelspec": {
   "display_name": "Python 3 (ipykernel)",
   "language": "python",
   "name": "python3"
  },
  "language_info": {
   "codemirror_mode": {
    "name": "ipython",
    "version": 3
   },
   "file_extension": ".py",
   "mimetype": "text/x-python",
   "name": "python",
   "nbconvert_exporter": "python",
   "pygments_lexer": "ipython3",
   "version": "3.13.5"
  }
 },
 "nbformat": 4,
 "nbformat_minor": 5
}
